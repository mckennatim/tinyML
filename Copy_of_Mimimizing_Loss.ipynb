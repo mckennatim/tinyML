{
  "nbformat": 4,
  "nbformat_minor": 0,
  "metadata": {
    "colab": {
      "name": "Copy of Mimimizing-Loss.ipynb",
      "provenance": [],
      "include_colab_link": true
    },
    "kernelspec": {
      "display_name": "Python 3",
      "language": "python",
      "name": "python3"
    },
    "language_info": {
      "codemirror_mode": {
        "name": "ipython",
        "version": 3
      },
      "file_extension": ".py",
      "mimetype": "text/x-python",
      "name": "python",
      "nbconvert_exporter": "python",
      "pygments_lexer": "ipython3",
      "version": "3.6.9"
    }
  },
  "cells": [
    {
      "cell_type": "markdown",
      "metadata": {
        "id": "view-in-github",
        "colab_type": "text"
      },
      "source": [
        "<a href=\"https://colab.research.google.com/github/mckennatim/tinyML/blob/main/Copy_of_Mimimizing_Loss.ipynb\" target=\"_parent\"><img src=\"https://colab.research.google.com/assets/colab-badge.svg\" alt=\"Open In Colab\"/></a>"
      ]
    },
    {
      "cell_type": "code",
      "metadata": {
        "id": "gtmQDB6EjReV"
      },
      "source": [
        "# First import the functions we will need\n",
        "from __future__ import absolute_import, division, print_function, unicode_literals\n",
        "\n",
        "try:\n",
        "  # %tensorflow_version only exists in Colab.\n",
        "  %tensorflow_version 2.x\n",
        "except Exception:\n",
        "  pass\n",
        "import tensorflow as tf\n",
        "import numpy as np\n",
        "import matplotlib.pyplot as plt"
      ],
      "execution_count": null,
      "outputs": []
    },
    {
      "cell_type": "markdown",
      "metadata": {
        "id": "9O5-58WYokl3"
      },
      "source": [
        "# GradientTape\n",
        "\n",
        "The Calculus is managed by a TensorFlow Gradient Tape. You can learn more about the gradient tape at https://www.tensorflow.org/api_docs/python/tf/GradientTape, and we will discuss it later in the course."
      ]
    },
    {
      "cell_type": "code",
      "metadata": {
        "id": "JdhgbGE2j02L"
      },
      "source": [
        "# Define our initial guess\n",
        "INITIAL_W = 10.0\n",
        "INITIAL_B = 10.0\n",
        "\n",
        "# Define our loss function\n",
        "def loss(predicted_y, target_y):\n",
        "  return tf.reduce_mean(tf.square(predicted_y - target_y))\n",
        "\n",
        "# Define our training procedure\n",
        "def train(model, inputs, outputs, learning_rate):\n",
        "  with tf.GradientTape() as t:\n",
        "    current_loss = loss(model(inputs), outputs)\n",
        "  # Here is where you differentiate the model values with respect to the loss function\n",
        "  dw, db = t.gradient(current_loss, [model.w, model.b])\n",
        "  # And here is where you update the model values based on the learning rate chosen\n",
        "  model.w.assign_sub(learning_rate * dw)\n",
        "  model.b.assign_sub(learning_rate * db)\n",
        "  return current_loss\n",
        "\n",
        "# Define our simple linear regression model\n",
        "class Model(object):\n",
        "  def __init__(self):\n",
        "    # Initialize the weights\n",
        "    self.w = tf.Variable(INITIAL_W)\n",
        "    self.b = tf.Variable(INITIAL_B)\n",
        "\n",
        "  def __call__(self, x):\n",
        "    return self.w * x + self.b"
      ],
      "execution_count": null,
      "outputs": []
    },
    {
      "cell_type": "markdown",
      "metadata": {
        "id": "xt7w6A7JoMJD"
      },
      "source": [
        "### Train our model"
      ]
    },
    {
      "cell_type": "code",
      "metadata": {
        "colab": {
          "base_uri": "https://localhost:8080/"
        },
        "id": "8akmDCoAjgak",
        "outputId": "111937c9-b1c1-476c-a9da-c2f9fe51fbb3"
      },
      "source": [
        "# Define our input data and learning rate\n",
        "xs = [-1.0, 0.0, 1.0, 2.0, 3.0, 4.0]\n",
        "ys = [-3.0, -1.0, 1.0, 3.0, 5.0, 7.0]\n",
        "LEARNING_RATE=0.04\n",
        "\n",
        "# Instantiate our model\n",
        "model = Model()\n",
        "\n",
        "# Collect the history of w-values and b-values to plot later\n",
        "list_w, list_b = [], []\n",
        "epochs = range(50)\n",
        "losses = []\n",
        "for epoch in epochs:\n",
        "  list_w.append(model.w.numpy())\n",
        "  list_b.append(model.b.numpy())\n",
        "  current_loss = train(model, xs, ys, learning_rate=LEARNING_RATE)\n",
        "  losses.append(current_loss)\n",
        "  print('Epoch %2d: w=%1.2f b=%1.2f, loss=%2.5f' %\n",
        "        (epoch, list_w[-1], list_b[-1], current_loss))"
      ],
      "execution_count": null,
      "outputs": [
        {
          "output_type": "stream",
          "text": [
            "Epoch  0: w=10.00 b=10.00, loss=715.66669\n",
            "Epoch  1: w=5.37 b=8.16, loss=235.39824\n",
            "Epoch  2: w=2.88 b=7.02, loss=89.53321\n",
            "Epoch  3: w=1.55 b=6.28, loss=44.21074\n",
            "Epoch  4: w=0.87 b=5.75, loss=29.20066\n",
            "Epoch  5: w=0.52 b=5.34, loss=23.40557\n",
            "Epoch  6: w=0.37 b=5.01, loss=20.48158\n",
            "Epoch  7: w=0.32 b=4.73, loss=18.51543\n",
            "Epoch  8: w=0.33 b=4.47, loss=16.92490\n",
            "Epoch  9: w=0.36 b=4.23, loss=15.52804\n",
            "Epoch 10: w=0.41 b=4.01, loss=14.26370\n",
            "Epoch 11: w=0.47 b=3.80, loss=13.10749\n",
            "Epoch 12: w=0.52 b=3.60, loss=12.04655\n",
            "Epoch 13: w=0.58 b=3.41, loss=11.07196\n",
            "Epoch 14: w=0.64 b=3.23, loss=10.17635\n",
            "Epoch 15: w=0.69 b=3.05, loss=9.35323\n",
            "Epoch 16: w=0.75 b=2.88, loss=8.59670\n",
            "Epoch 17: w=0.80 b=2.72, loss=7.90137\n",
            "Epoch 18: w=0.85 b=2.57, loss=7.26228\n",
            "Epoch 19: w=0.90 b=2.42, loss=6.67488\n",
            "Epoch 20: w=0.94 b=2.28, loss=6.13499\n",
            "Epoch 21: w=0.99 b=2.15, loss=5.63877\n",
            "Epoch 22: w=1.03 b=2.02, loss=5.18269\n",
            "Epoch 23: w=1.07 b=1.89, loss=4.76349\n",
            "Epoch 24: w=1.11 b=1.77, loss=4.37821\n",
            "Epoch 25: w=1.14 b=1.66, loss=4.02408\n",
            "Epoch 26: w=1.18 b=1.55, loss=3.69860\n",
            "Epoch 27: w=1.21 b=1.44, loss=3.39944\n",
            "Epoch 28: w=1.24 b=1.34, loss=3.12448\n",
            "Epoch 29: w=1.28 b=1.24, loss=2.87176\n",
            "Epoch 30: w=1.31 b=1.15, loss=2.63949\n",
            "Epoch 31: w=1.33 b=1.06, loss=2.42600\n",
            "Epoch 32: w=1.36 b=0.98, loss=2.22977\n",
            "Epoch 33: w=1.39 b=0.90, loss=2.04942\n",
            "Epoch 34: w=1.41 b=0.82, loss=1.88366\n",
            "Epoch 35: w=1.44 b=0.74, loss=1.73130\n",
            "Epoch 36: w=1.46 b=0.67, loss=1.59127\n",
            "Epoch 37: w=1.48 b=0.60, loss=1.46256\n",
            "Epoch 38: w=1.50 b=0.54, loss=1.34426\n",
            "Epoch 39: w=1.53 b=0.47, loss=1.23553\n",
            "Epoch 40: w=1.54 b=0.41, loss=1.13560\n",
            "Epoch 41: w=1.56 b=0.35, loss=1.04375\n",
            "Epoch 42: w=1.58 b=0.30, loss=0.95933\n",
            "Epoch 43: w=1.60 b=0.24, loss=0.88173\n",
            "Epoch 44: w=1.62 b=0.19, loss=0.81041\n",
            "Epoch 45: w=1.63 b=0.14, loss=0.74487\n",
            "Epoch 46: w=1.65 b=0.10, loss=0.68462\n",
            "Epoch 47: w=1.66 b=0.05, loss=0.62924\n",
            "Epoch 48: w=1.68 b=0.01, loss=0.57835\n",
            "Epoch 49: w=1.69 b=-0.03, loss=0.53157\n"
          ],
          "name": "stdout"
        }
      ]
    },
    {
      "cell_type": "markdown",
      "metadata": {
        "id": "P5aI5Z2DoMJD"
      },
      "source": [
        "### Plot our trained values over time"
      ]
    },
    {
      "cell_type": "code",
      "metadata": {
        "colab": {
          "base_uri": "https://localhost:8080/",
          "height": 265
        },
        "id": "HGgb5grSk8Ax",
        "outputId": "73db26e9-b56b-4801-f8c2-f01d59ec3b69"
      },
      "source": [
        "# Plot the w-values and b-values for each training Epoch against the true values\n",
        "TRUE_w = 2.0\n",
        "TRUE_b = -1.0\n",
        "plt.plot(epochs, list_w, 'r', epochs, list_b, 'b')\n",
        "plt.plot([TRUE_w] * len(epochs), 'r--', [TRUE_b] * len(epochs), 'b--')\n",
        "plt.legend(['w', 'b', 'True w', 'True b'])\n",
        "plt.show()"
      ],
      "execution_count": null,
      "outputs": [
        {
          "output_type": "display_data",
          "data": {
            "image/png": "[encoded data removed]",
            "text/plain": [
              "<Figure size 432x288 with 1 Axes>"
            ]
          },
          "metadata": {
            "tags": [],
            "needs_background": "light"
          }
        }
      ]
    }
  ]
}